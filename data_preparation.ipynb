{
 "cells": [
  {
   "cell_type": "code",
   "execution_count": null,
   "metadata": {},
   "outputs": [],
   "source": []
  },
  {
   "cell_type": "code",
   "execution_count": null,
   "metadata": {},
   "outputs": [],
   "source": []
  },
  {
   "cell_type": "code",
   "execution_count": 45,
   "metadata": {},
   "outputs": [
    {
     "data": {
      "text/html": [
       "<div>\n",
       "<style scoped>\n",
       "    .dataframe tbody tr th:only-of-type {\n",
       "        vertical-align: middle;\n",
       "    }\n",
       "\n",
       "    .dataframe tbody tr th {\n",
       "        vertical-align: top;\n",
       "    }\n",
       "\n",
       "    .dataframe thead th {\n",
       "        text-align: right;\n",
       "    }\n",
       "</style>\n",
       "<table border=\"1\" class=\"dataframe\">\n",
       "  <thead>\n",
       "    <tr style=\"text-align: right;\">\n",
       "      <th></th>\n",
       "      <th>1</th>\n",
       "      <th>2</th>\n",
       "      <th>3</th>\n",
       "      <th>4</th>\n",
       "      <th>5</th>\n",
       "      <th>6</th>\n",
       "      <th>7</th>\n",
       "      <th>8</th>\n",
       "    </tr>\n",
       "  </thead>\n",
       "  <tbody>\n",
       "    <tr>\n",
       "      <th>0</th>\n",
       "      <td>home</td>\n",
       "      <td>justwantpost</td>\n",
       "      <td>drive</td>\n",
       "      <td>ShapeNetCore.v2</td>\n",
       "      <td>02773838</td>\n",
       "      <td>2970e5486815e72ccd99ccc7ff441abf</td>\n",
       "      <td>models</td>\n",
       "      <td>model_normalized.npy_32.npy 1</td>\n",
       "    </tr>\n",
       "    <tr>\n",
       "      <th>1</th>\n",
       "      <td>home</td>\n",
       "      <td>justwantpost</td>\n",
       "      <td>drive</td>\n",
       "      <td>ShapeNetCore.v2</td>\n",
       "      <td>02773838</td>\n",
       "      <td>758dd5af7f18ed9acd99ccc7ff441abf</td>\n",
       "      <td>models</td>\n",
       "      <td>model_normalized.npy_32.npy 1</td>\n",
       "    </tr>\n",
       "    <tr>\n",
       "      <th>2</th>\n",
       "      <td>home</td>\n",
       "      <td>justwantpost</td>\n",
       "      <td>drive</td>\n",
       "      <td>ShapeNetCore.v2</td>\n",
       "      <td>02773838</td>\n",
       "      <td>a1822be832091e036afa58a86636d6be</td>\n",
       "      <td>models</td>\n",
       "      <td>model_normalized.npy_32.npy 1</td>\n",
       "    </tr>\n",
       "    <tr>\n",
       "      <th>3</th>\n",
       "      <td>home</td>\n",
       "      <td>justwantpost</td>\n",
       "      <td>drive</td>\n",
       "      <td>ShapeNetCore.v2</td>\n",
       "      <td>02773838</td>\n",
       "      <td>93ca5243aa73b5de81157c9325bb0e45</td>\n",
       "      <td>models</td>\n",
       "      <td>model_normalized.npy_32.npy 1</td>\n",
       "    </tr>\n",
       "    <tr>\n",
       "      <th>4</th>\n",
       "      <td>home</td>\n",
       "      <td>justwantpost</td>\n",
       "      <td>drive</td>\n",
       "      <td>ShapeNetCore.v2</td>\n",
       "      <td>02773838</td>\n",
       "      <td>6881468dd51c214922022e93ae2b2b5b</td>\n",
       "      <td>models</td>\n",
       "      <td>model_normalized.npy_32.npy 1</td>\n",
       "    </tr>\n",
       "  </tbody>\n",
       "</table>\n",
       "</div>"
      ],
      "text/plain": [
       "      1             2      3                4         5  \\\n",
       "0  home  justwantpost  drive  ShapeNetCore.v2  02773838   \n",
       "1  home  justwantpost  drive  ShapeNetCore.v2  02773838   \n",
       "2  home  justwantpost  drive  ShapeNetCore.v2  02773838   \n",
       "3  home  justwantpost  drive  ShapeNetCore.v2  02773838   \n",
       "4  home  justwantpost  drive  ShapeNetCore.v2  02773838   \n",
       "\n",
       "                                  6       7                              8  \n",
       "0  2970e5486815e72ccd99ccc7ff441abf  models  model_normalized.npy_32.npy 1  \n",
       "1  758dd5af7f18ed9acd99ccc7ff441abf  models  model_normalized.npy_32.npy 1  \n",
       "2  a1822be832091e036afa58a86636d6be  models  model_normalized.npy_32.npy 1  \n",
       "3  93ca5243aa73b5de81157c9325bb0e45  models  model_normalized.npy_32.npy 1  \n",
       "4  6881468dd51c214922022e93ae2b2b5b  models  model_normalized.npy_32.npy 1  "
      ]
     },
     "execution_count": 45,
     "metadata": {},
     "output_type": "execute_result"
    }
   ],
   "source": [
    "from sklearn.model_selection import train_test_split\n",
    "from sklearn.preprocessing import MinMaxScaler\n",
    "import pandas as pd\n",
    "\n",
    "df = pd.read_csv('/home/justwantpost/drive/ShapeNetCore.v2/paths_32.csv', header=None, sep='/', dtype=str)\n",
    "\n",
    "# drop column 0\n",
    "df = df.drop([0], axis=1)\n",
    "df.head()"
   ]
  },
  {
   "cell_type": "code",
   "execution_count": 46,
   "metadata": {},
   "outputs": [
    {
     "name": "stderr",
     "output_type": "stream",
     "text": [
      "100%|██████████| 52472/52472 [00:02<00:00, 25469.38it/s]\n"
     ]
    }
   ],
   "source": [
    "from tqdm import tqdm\n",
    "import numpy as np\n",
    "from collections import defaultdict\n",
    "\n",
    "# Initialize a list to collect data before creating the DataFrame\n",
    "data = defaultdict(list)\n",
    "\n",
    "for _, row in tqdm(df.iterrows(), total=len(df)):\n",
    "    \n",
    "    category = row[5]\n",
    "    \n",
    "    file_path = '/' + '/'.join(row.values).strip()[:-2]\n",
    "    \n",
    "    # Extend the list with tuples of path, score, and grasp\n",
    "    data[category].append(file_path)\n",
    "\n",
    "\n",
    "# Create a DataFrames\n",
    "for category in data.keys():\n",
    "    data[category] = pd.DataFrame(data[category], columns=['path'])\n",
    "\n",
    "# split the data into train and test one by one\n",
    "X_train = defaultdict(list)\n",
    "X_test = defaultdict(list)\n",
    "\n",
    "for category in data.keys():\n",
    "    tr, te = train_test_split(data[category], test_size=0.2, random_state=42)\n",
    "    X_train[category] = tr\n",
    "    X_test[category] = te\n",
    "\n",
    "# combine\n",
    "X_train = pd.concat(X_train.values())\n",
    "X_test = pd.concat(X_test.values())"
   ]
  },
  {
   "cell_type": "code",
   "execution_count": 47,
   "metadata": {},
   "outputs": [],
   "source": [
    "# add as second column value 1 for all the rows\n",
    "X_train.insert(1, '1', 1)\n",
    "X_test.insert(1, '1', 1)\n",
    "\n",
    "# write to csv with delimiter space \n",
    "X_train.to_csv('/home/justwantpost/drive/ShapeNetCore.v2/paths_32_train.csv', index=False, header=False, sep=' ')\n",
    "X_test.to_csv('/home/justwantpost/drive/ShapeNetCore.v2/paths_32_test.csv', index=False, header=False, sep=' ')"
   ]
  },
  {
   "cell_type": "code",
   "execution_count": null,
   "metadata": {},
   "outputs": [],
   "source": []
  }
 ],
 "metadata": {
  "kernelspec": {
   "display_name": "base",
   "language": "python",
   "name": "python3"
  },
  "language_info": {
   "codemirror_mode": {
    "name": "ipython",
    "version": 3
   },
   "file_extension": ".py",
   "mimetype": "text/x-python",
   "name": "python",
   "nbconvert_exporter": "python",
   "pygments_lexer": "ipython3",
   "version": "3.12.2"
  }
 },
 "nbformat": 4,
 "nbformat_minor": 2
}
