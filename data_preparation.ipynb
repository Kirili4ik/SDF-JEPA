{
 "cells": [
  {
   "cell_type": "code",
   "execution_count": 1,
   "metadata": {},
   "outputs": [
    {
     "data": {
      "text/html": [
       "<div>\n",
       "<style scoped>\n",
       "    .dataframe tbody tr th:only-of-type {\n",
       "        vertical-align: middle;\n",
       "    }\n",
       "\n",
       "    .dataframe tbody tr th {\n",
       "        vertical-align: top;\n",
       "    }\n",
       "\n",
       "    .dataframe thead th {\n",
       "        text-align: right;\n",
       "    }\n",
       "</style>\n",
       "<table border=\"1\" class=\"dataframe\">\n",
       "  <thead>\n",
       "    <tr style=\"text-align: right;\">\n",
       "      <th></th>\n",
       "      <th>1</th>\n",
       "      <th>2</th>\n",
       "      <th>3</th>\n",
       "      <th>4</th>\n",
       "      <th>5</th>\n",
       "      <th>6</th>\n",
       "      <th>7</th>\n",
       "      <th>8</th>\n",
       "    </tr>\n",
       "  </thead>\n",
       "  <tbody>\n",
       "    <tr>\n",
       "      <th>0</th>\n",
       "      <td>home</td>\n",
       "      <td>justwantpost</td>\n",
       "      <td>drive</td>\n",
       "      <td>ShapeNetCore.v2</td>\n",
       "      <td>02773838</td>\n",
       "      <td>2970e5486815e72ccd99ccc7ff441abf</td>\n",
       "      <td>models</td>\n",
       "      <td>model_normalized.npy_32.npy 1</td>\n",
       "    </tr>\n",
       "    <tr>\n",
       "      <th>1</th>\n",
       "      <td>home</td>\n",
       "      <td>justwantpost</td>\n",
       "      <td>drive</td>\n",
       "      <td>ShapeNetCore.v2</td>\n",
       "      <td>02773838</td>\n",
       "      <td>758dd5af7f18ed9acd99ccc7ff441abf</td>\n",
       "      <td>models</td>\n",
       "      <td>model_normalized.npy_32.npy 1</td>\n",
       "    </tr>\n",
       "    <tr>\n",
       "      <th>2</th>\n",
       "      <td>home</td>\n",
       "      <td>justwantpost</td>\n",
       "      <td>drive</td>\n",
       "      <td>ShapeNetCore.v2</td>\n",
       "      <td>02773838</td>\n",
       "      <td>a1822be832091e036afa58a86636d6be</td>\n",
       "      <td>models</td>\n",
       "      <td>model_normalized.npy_32.npy 1</td>\n",
       "    </tr>\n",
       "    <tr>\n",
       "      <th>3</th>\n",
       "      <td>home</td>\n",
       "      <td>justwantpost</td>\n",
       "      <td>drive</td>\n",
       "      <td>ShapeNetCore.v2</td>\n",
       "      <td>02773838</td>\n",
       "      <td>93ca5243aa73b5de81157c9325bb0e45</td>\n",
       "      <td>models</td>\n",
       "      <td>model_normalized.npy_32.npy 1</td>\n",
       "    </tr>\n",
       "    <tr>\n",
       "      <th>4</th>\n",
       "      <td>home</td>\n",
       "      <td>justwantpost</td>\n",
       "      <td>drive</td>\n",
       "      <td>ShapeNetCore.v2</td>\n",
       "      <td>02773838</td>\n",
       "      <td>6881468dd51c214922022e93ae2b2b5b</td>\n",
       "      <td>models</td>\n",
       "      <td>model_normalized.npy_32.npy 1</td>\n",
       "    </tr>\n",
       "  </tbody>\n",
       "</table>\n",
       "</div>"
      ],
      "text/plain": [
       "      1             2      3                4         5  \\\n",
       "0  home  justwantpost  drive  ShapeNetCore.v2  02773838   \n",
       "1  home  justwantpost  drive  ShapeNetCore.v2  02773838   \n",
       "2  home  justwantpost  drive  ShapeNetCore.v2  02773838   \n",
       "3  home  justwantpost  drive  ShapeNetCore.v2  02773838   \n",
       "4  home  justwantpost  drive  ShapeNetCore.v2  02773838   \n",
       "\n",
       "                                  6       7                              8  \n",
       "0  2970e5486815e72ccd99ccc7ff441abf  models  model_normalized.npy_32.npy 1  \n",
       "1  758dd5af7f18ed9acd99ccc7ff441abf  models  model_normalized.npy_32.npy 1  \n",
       "2  a1822be832091e036afa58a86636d6be  models  model_normalized.npy_32.npy 1  \n",
       "3  93ca5243aa73b5de81157c9325bb0e45  models  model_normalized.npy_32.npy 1  \n",
       "4  6881468dd51c214922022e93ae2b2b5b  models  model_normalized.npy_32.npy 1  "
      ]
     },
     "execution_count": 1,
     "metadata": {},
     "output_type": "execute_result"
    }
   ],
   "source": [
    "from sklearn.model_selection import train_test_split\n",
    "from sklearn.preprocessing import MinMaxScaler\n",
    "import pandas as pd\n",
    "\n",
    "df = pd.read_csv('/home/justwantpost/drive/ShapeNetCore.v2/paths_32.csv', header=None, sep='/', dtype=str)\n",
    "\n",
    "# drop column 0\n",
    "df = df.drop([0], axis=1)\n",
    "df.head()"
   ]
  },
  {
   "cell_type": "code",
   "execution_count": 2,
   "metadata": {},
   "outputs": [
    {
     "name": "stderr",
     "output_type": "stream",
     "text": [
      "100%|██████████| 52472/52472 [00:02<00:00, 24705.94it/s]\n"
     ]
    }
   ],
   "source": [
    "from tqdm import tqdm\n",
    "import numpy as np\n",
    "from collections import defaultdict\n",
    "\n",
    "# Initialize a list to collect data before creating the DataFrame\n",
    "data = defaultdict(list)\n",
    "\n",
    "for _, row in tqdm(df.iterrows(), total=len(df)):\n",
    "    \n",
    "    category = row[5]\n",
    "    \n",
    "    file_path = '/' + '/'.join(row.values).strip()[:-2]\n",
    "    \n",
    "    # Extend the list with tuples of path, score, and grasp\n",
    "    data[category].append(file_path)\n",
    "\n",
    "\n",
    "# Create a DataFrames\n",
    "for category in data.keys():\n",
    "    data[category] = pd.DataFrame(data[category], columns=['path'])\n",
    "\n",
    "# split the data into train and test one by one\n",
    "X_train = defaultdict(list)\n",
    "X_test = defaultdict(list)\n",
    "\n",
    "for category in data.keys():\n",
    "    tr, te = train_test_split(data[category], test_size=0.2, random_state=42)\n",
    "    X_train[category] = tr\n",
    "    X_test[category] = te\n",
    "\n",
    "# combine\n",
    "X_train = pd.concat(X_train.values())\n",
    "X_test = pd.concat(X_test.values())"
   ]
  },
  {
   "cell_type": "code",
   "execution_count": 47,
   "metadata": {},
   "outputs": [],
   "source": [
    "# add as second column value 1 for all the rows\n",
    "X_train.insert(1, '1', 1)\n",
    "X_test.insert(1, '1', 1)\n",
    "\n",
    "# write to csv with delimiter space \n",
    "X_train.to_csv('/home/justwantpost/drive/ShapeNetCore.v2/paths_32_train.csv', index=False, header=False, sep=' ')\n",
    "X_test.to_csv('/home/justwantpost/drive/ShapeNetCore.v2/paths_32_test.csv', index=False, header=False, sep=' ')"
   ]
  },
  {
   "cell_type": "code",
   "execution_count": 7,
   "metadata": {},
   "outputs": [],
   "source": [
    "import matplotlib.pyplot as plt"
   ]
  },
  {
   "cell_type": "code",
   "execution_count": 10,
   "metadata": {},
   "outputs": [],
   "source": [
    "x = np.load('/home/justwantpost/drive/ShapeNetCore.v2/02773838/f5800755a78fc83957be02cb1dc1e62/models/model_normalized.npy_32.npy')\n",
    "x = x.reshape(-1)"
   ]
  },
  {
   "cell_type": "code",
   "execution_count": 11,
   "metadata": {},
   "outputs": [
    {
     "data": {
      "image/png": "[encoded data removed]",
      "text/plain": [
       "<Figure size 640x480 with 1 Axes>"
      ]
     },
     "metadata": {},
     "output_type": "display_data"
    }
   ],
   "source": [
    "plt.hist(x)\n",
    "plt.show()"
   ]
  },
  {
   "cell_type": "code",
   "execution_count": 16,
   "metadata": {},
   "outputs": [
    {
     "data": {
      "image/png": "[encoded data removed]",
      "text/plain": [
       "<Figure size 640x480 with 1 Axes>"
      ]
     },
     "metadata": {},
     "output_type": "display_data"
    }
   ],
   "source": [
    "# plt.hist(x + noise)\n",
    "plt.hist(x)\n",
    "plt.hist(noise)\n",
    "plt.show()"
   ]
  },
  {
   "cell_type": "code",
   "execution_count": 3,
   "metadata": {},
   "outputs": [
    {
     "name": "stderr",
     "output_type": "stream",
     "text": [
      "Exception in thread GUIMain:\n",
      "Traceback (most recent call last):\n",
      "  File \"/home/justwantpost/drive/miniconda3/lib/python3.12/threading.py\", line 1073, in _bootstrap_inner\n",
      "    self.run()\n",
      "  File \"/home/justwantpost/drive/miniconda3/lib/python3.12/site-packages/ipykernel/ipkernel.py\", line 766, in run_closure\n",
      "    _threading_Thread_run(self)\n",
      "  File \"/home/justwantpost/drive/miniconda3/lib/python3.12/threading.py\", line 1010, in run\n",
      "    self._target(*self._args, **self._kwargs)\n",
      "  File \"/home/justwantpost/drive/miniconda3/lib/python3.12/site-packages/open3d/visualization/async_event_loop.py\", line 70, in _thread_main\n",
      "    app = o3d.visualization.gui.Application.instance\n",
      "          ^^^^^^^^^^^^^^^^^^^^^\n",
      "AttributeError: module 'open3d.visualization' has no attribute 'gui'\n"
     ]
    },
    {
     "name": "stdout",
     "output_type": "stream",
     "text": [
      "[Open3D INFO] Resetting default logger to print to terminal.\n"
     ]
    },
    {
     "ename": "RuntimeError",
     "evalue": "Open3D WebVisualizer Jupyter extension is not available. To use WebVisualizer, build Open3D with -DBUILD_JUPYTER_EXTENSION=ON.",
     "output_type": "error",
     "traceback": [
      "\u001b[0;31m---------------------------------------------------------------------------\u001b[0m",
      "\u001b[0;31mRuntimeError\u001b[0m                              Traceback (most recent call last)",
      "Cell \u001b[0;32mIn[3], line 4\u001b[0m\n\u001b[1;32m      2\u001b[0m \u001b[38;5;28;01mimport\u001b[39;00m \u001b[38;5;21;01mnumpy\u001b[39;00m \u001b[38;5;28;01mas\u001b[39;00m \u001b[38;5;21;01mnp\u001b[39;00m\n\u001b[1;32m      3\u001b[0m \u001b[38;5;28;01mimport\u001b[39;00m \u001b[38;5;21;01mwandb\u001b[39;00m\n\u001b[0;32m----> 4\u001b[0m \u001b[38;5;28;01mfrom\u001b[39;00m \u001b[38;5;21;01mopen3d\u001b[39;00m\u001b[38;5;21;01m.\u001b[39;00m\u001b[38;5;21;01mweb_visualizer\u001b[39;00m \u001b[38;5;28;01mimport\u001b[39;00m draw\n",
      "File \u001b[0;32m/home/justwantpost/drive/miniconda3/lib/python3.12/site-packages/open3d/web_visualizer.py:19\u001b[0m\n\u001b[1;32m     17\u001b[0m \u001b[38;5;28;01mfrom\u001b[39;00m \u001b[38;5;21;01mopen3d\u001b[39;00m\u001b[38;5;21;01m.\u001b[39;00m\u001b[38;5;21;01m_build_config\u001b[39;00m \u001b[38;5;28;01mimport\u001b[39;00m _build_config\n\u001b[1;32m     18\u001b[0m \u001b[38;5;28;01mif\u001b[39;00m \u001b[38;5;129;01mnot\u001b[39;00m _build_config[\u001b[38;5;124m\"\u001b[39m\u001b[38;5;124mBUILD_JUPYTER_EXTENSION\u001b[39m\u001b[38;5;124m\"\u001b[39m]:\n\u001b[0;32m---> 19\u001b[0m     \u001b[38;5;28;01mraise\u001b[39;00m \u001b[38;5;167;01mRuntimeError\u001b[39;00m(\n\u001b[1;32m     20\u001b[0m         \u001b[38;5;124m\"\u001b[39m\u001b[38;5;124mOpen3D WebVisualizer Jupyter extension is not available. To use \u001b[39m\u001b[38;5;124m\"\u001b[39m\n\u001b[1;32m     21\u001b[0m         \u001b[38;5;124m\"\u001b[39m\u001b[38;5;124mWebVisualizer, build Open3D with -DBUILD_JUPYTER_EXTENSION=ON.\u001b[39m\u001b[38;5;124m\"\u001b[39m)\n\u001b[1;32m     24\u001b[0m \u001b[38;5;129m@ipywidgets\u001b[39m\u001b[38;5;241m.\u001b[39mregister\n\u001b[1;32m     25\u001b[0m \u001b[38;5;28;01mclass\u001b[39;00m \u001b[38;5;21;01mWebVisualizer\u001b[39;00m(ipywidgets\u001b[38;5;241m.\u001b[39mDOMWidget):\n\u001b[1;32m     26\u001b[0m \u001b[38;5;250m    \u001b[39m\u001b[38;5;124;03m\"\"\"Open3D Web Visualizer based on WebRTC.\"\"\"\u001b[39;00m\n",
      "\u001b[0;31mRuntimeError\u001b[0m: Open3D WebVisualizer Jupyter extension is not available. To use WebVisualizer, build Open3D with -DBUILD_JUPYTER_EXTENSION=ON."
     ]
    }
   ],
   "source": [
    "import open3d as o3d\n",
    "import numpy as np\n",
    "import wandb\n",
    "from open3d.web_visualizer import draw"
   ]
  },
  {
   "cell_type": "code",
   "execution_count": null,
   "metadata": {},
   "outputs": [],
   "source": [
    "cube_red = o3d.geometry.TriangleMesh.create_box(1, 2, 4)\n",
    "cube_red.compute_vertex_normals()\n",
    "cube_red.paint_uniform_color((1.0, 0.0, 0.0))\n",
    "draw(cube_red)"
   ]
  },
  {
   "cell_type": "code",
   "execution_count": null,
   "metadata": {},
   "outputs": [],
   "source": []
  },
  {
   "cell_type": "code",
   "execution_count": null,
   "metadata": {},
   "outputs": [],
   "source": []
  },
  {
   "cell_type": "code",
   "execution_count": 13,
   "metadata": {},
   "outputs": [
    {
     "name": "stderr",
     "output_type": "stream",
     "text": [
      "Failed to detect the name of this notebook, you can set it manually with the WANDB_NOTEBOOK_NAME environment variable to enable code saving.\n",
      "\u001b[34m\u001b[1mwandb\u001b[0m: Currently logged in as: \u001b[33mkirili4ik\u001b[0m. Use \u001b[1m`wandb login --relogin`\u001b[0m to force relogin\n"
     ]
    },
    {
     "data": {
      "text/html": [
       "wandb version 0.17.4 is available!  To upgrade, please run:\n",
       " $ pip install wandb --upgrade"
      ],
      "text/plain": [
       "<IPython.core.display.HTML object>"
      ]
     },
     "metadata": {},
     "output_type": "display_data"
    },
    {
     "data": {
      "text/html": [
       "Tracking run with wandb version 0.17.0"
      ],
      "text/plain": [
       "<IPython.core.display.HTML object>"
      ]
     },
     "metadata": {},
     "output_type": "display_data"
    },
    {
     "data": {
      "text/html": [
       "Run data is saved locally in <code>/home/justwantpost/drive/jepa/wandb/run-20240715_145447-nh407aub</code>"
      ],
      "text/plain": [
       "<IPython.core.display.HTML object>"
      ]
     },
     "metadata": {},
     "output_type": "display_data"
    },
    {
     "data": {
      "text/html": [
       "Syncing run <strong><a href='https://wandb.ai/kirili4ik/grasp-jepa/runs/nh407aub' target=\"_blank\">denis-test</a></strong> to <a href='https://wandb.ai/kirili4ik/grasp-jepa' target=\"_blank\">Weights & Biases</a> (<a href='https://wandb.me/run' target=\"_blank\">docs</a>)<br/>"
      ],
      "text/plain": [
       "<IPython.core.display.HTML object>"
      ]
     },
     "metadata": {},
     "output_type": "display_data"
    },
    {
     "data": {
      "text/html": [
       " View project at <a href='https://wandb.ai/kirili4ik/grasp-jepa' target=\"_blank\">https://wandb.ai/kirili4ik/grasp-jepa</a>"
      ],
      "text/plain": [
       "<IPython.core.display.HTML object>"
      ]
     },
     "metadata": {},
     "output_type": "display_data"
    },
    {
     "data": {
      "text/html": [
       " View run at <a href='https://wandb.ai/kirili4ik/grasp-jepa/runs/nh407aub' target=\"_blank\">https://wandb.ai/kirili4ik/grasp-jepa/runs/nh407aub</a>"
      ],
      "text/plain": [
       "<IPython.core.display.HTML object>"
      ]
     },
     "metadata": {},
     "output_type": "display_data"
    },
    {
     "data": {
      "text/html": [
       "<button onClick=\"this.nextSibling.style.display='block';this.style.display='none';\">Display W&B run</button><iframe src='https://wandb.ai/kirili4ik/grasp-jepa/runs/nh407aub?jupyter=true' style='border:none;width:100%;height:420px;display:none;'></iframe>"
      ],
      "text/plain": [
       "<wandb.sdk.wandb_run.Run at 0x7fc7f3e10b30>"
      ]
     },
     "execution_count": 13,
     "metadata": {},
     "output_type": "execute_result"
    }
   ],
   "source": [
    "wandb.init(\n",
    "    project=\"grasp-jepa\",\n",
    "    name='denis-test'\n",
    ")"
   ]
  },
  {
   "cell_type": "code",
   "execution_count": 14,
   "metadata": {},
   "outputs": [],
   "source": [
    "wandb.log({\n",
    "    \"test_mesh\": wandb.Object3D('masked_mesh.obj'),\n",
    "})"
   ]
  },
  {
   "cell_type": "code",
   "execution_count": 15,
   "metadata": {},
   "outputs": [
    {
     "data": {
      "application/vnd.jupyter.widget-view+json": {
       "model_id": "6b3c3002463d4471958a8d69e45f91e2",
       "version_major": 2,
       "version_minor": 0
      },
      "text/plain": [
       "VBox(children=(Label(value='0.804 MB of 0.804 MB uploaded\\r'), FloatProgress(value=1.0, max=1.0)))"
      ]
     },
     "metadata": {},
     "output_type": "display_data"
    },
    {
     "data": {
      "text/html": [
       " View run <strong style=\"color:#cdcd00\">denis-test</strong> at: <a href='https://wandb.ai/kirili4ik/grasp-jepa/runs/nh407aub' target=\"_blank\">https://wandb.ai/kirili4ik/grasp-jepa/runs/nh407aub</a><br/> View project at: <a href='https://wandb.ai/kirili4ik/grasp-jepa' target=\"_blank\">https://wandb.ai/kirili4ik/grasp-jepa</a><br/>Synced 5 W&B file(s), 1 media file(s), 0 artifact file(s) and 0 other file(s)"
      ],
      "text/plain": [
       "<IPython.core.display.HTML object>"
      ]
     },
     "metadata": {},
     "output_type": "display_data"
    },
    {
     "data": {
      "text/html": [
       "Find logs at: <code>./wandb/run-20240715_145447-nh407aub/logs</code>"
      ],
      "text/plain": [
       "<IPython.core.display.HTML object>"
      ]
     },
     "metadata": {},
     "output_type": "display_data"
    }
   ],
   "source": [
    "wandb.finish()"
   ]
  },
  {
   "cell_type": "code",
   "execution_count": null,
   "metadata": {},
   "outputs": [],
   "source": []
  }
 ],
 "metadata": {
  "kernelspec": {
   "display_name": "base",
   "language": "python",
   "name": "python3"
  },
  "language_info": {
   "codemirror_mode": {
    "name": "ipython",
    "version": 3
   },
   "file_extension": ".py",
   "mimetype": "text/x-python",
   "name": "python",
   "nbconvert_exporter": "python",
   "pygments_lexer": "ipython3",
   "version": "3.12.2"
  }
 },
 "nbformat": 4,
 "nbformat_minor": 2
}
